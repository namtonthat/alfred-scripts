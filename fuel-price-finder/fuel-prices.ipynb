{
 "cells": [
  {
   "cell_type": "code",
   "execution_count": 1,
   "metadata": {},
   "outputs": [],
   "source": [
    "import pandas as pd\n",
    "from bs4 import BeautifulSoup\n",
    "import requests"
   ]
  },
  {
   "cell_type": "code",
   "execution_count": 2,
   "metadata": {},
   "outputs": [],
   "source": [
    "url = \"https://projectzerothree.info/prices.php\"\n",
    "page = requests.get(url)\n",
    "soup = BeautifulSoup(page.content, 'html.parser')"
   ]
  },
  {
   "cell_type": "code",
   "execution_count": 10,
   "metadata": {},
   "outputs": [],
   "source": [
    "best_prices = soup.tbody.find_all('tr')"
   ]
  },
  {
   "cell_type": "code",
   "execution_count": 41,
   "metadata": {},
   "outputs": [],
   "source": [
    "prices = {}\n",
    "for i in range(0, len(best_prices)): \n",
    "    price_info = best_prices[i].find_all('td')\n",
    "    fuel_type = price_info[0].text\n",
    "    price = price_info[1].text\n",
    "    location_list = [i.text for i in price_info[3:6]]\n",
    "    location = ' '.join(location_list)\n",
    "    prices[fuel_type] = [price, location]\n",
    "\n",
    "## To call another fuel type - return prices.get('fuelType')\n",
    "## Available fuelTypes are\n",
    "## E10, U91, U98, Diesel, LPG\n",
    "sys.exit(prices.get('U91')[1])"
   ]
  }
 ],
 "metadata": {
  "kernelspec": {
   "display_name": "Python 3.10.2 ('scratch')",
   "language": "python",
   "name": "python3"
  },
  "language_info": {
   "codemirror_mode": {
    "name": "ipython",
    "version": 3
   },
   "file_extension": ".py",
   "mimetype": "text/x-python",
   "name": "python",
   "nbconvert_exporter": "python",
   "pygments_lexer": "ipython3",
   "version": "3.10.5"
  },
  "orig_nbformat": 4,
  "vscode": {
   "interpreter": {
    "hash": "626ccb21f3a85c4660448925f9bbb9536e050b927a3eb900403202da535390c3"
   }
  }
 },
 "nbformat": 4,
 "nbformat_minor": 2
}
